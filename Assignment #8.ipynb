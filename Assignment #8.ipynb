{
 "cells": [
  {
   "cell_type": "markdown",
   "metadata": {},
   "source": [
    "# Assignment 8\n",
    "Using any dataset that has a categorical feature that needs to be predicted, use several algorithms, preprocessing techniques, feature extraction techniques to fit the data to the model and show the accuracy, confusion matrix, and the classification report. G\n",
    "https://www.kaggle.com/ntnu-testimon/paysim1\n",
    "https://www.kaggle.com/joniarroba/noshowappointments\n",
    "https://archive.ics.uci.edu/ml/datasets.html?format=&task=cla&att=&area=&numAtt=&numIns=&type=&sort=nameUp&view=table\n",
    "https://archive.ics.uci.edu/ml/datasets/default+of+credit+card+clients\n",
    "https://archive.ics.uci.edu/ml/datasets/Adult"
   ]
  },
  {
   "cell_type": "code",
   "execution_count": 103,
   "metadata": {},
   "outputs": [],
   "source": [
    "from sklearn.svm import LinearSVC\n",
    "from sklearn.linear_model import LogisticRegression\n",
    "\n",
    "from sklearn.metrics import accuracy_score, confusion_matrix, classification_report\n",
    "import pandas as pd\n",
    "import seaborn as sns\n",
    "import matplotlib.pyplot as plt\n",
    "%matplotlib inline\n",
    "sns.set(font_scale=1.5)\n",
    "import numpy as np\n",
    "\n",
    "from pylab import rcParams\n",
    "rcParams['figure.figsize'] = 20,10"
   ]
  },
  {
   "cell_type": "code",
   "execution_count": 92,
   "metadata": {},
   "outputs": [
    {
     "data": {
      "text/plain": [
       "age                  int64\n",
       "workclass           object\n",
       "fnlwgt               int64\n",
       "eduaction           object\n",
       "education_num        int64\n",
       "marital_status      object\n",
       "occupation          object\n",
       "relationship        object\n",
       "race                object\n",
       "sex                 object\n",
       "capital_gain       float64\n",
       "capital_loss       float64\n",
       "hours_per_week     float64\n",
       "native_country      object\n",
       "class               object\n",
       "class_dummy        float64\n",
       "sex_category      category\n",
       "race_category     category\n",
       "dtype: object"
      ]
     },
     "execution_count": 92,
     "metadata": {},
     "output_type": "execute_result"
    }
   ],
   "source": [
    "people = pd.read_csv('assignment8data.csv')\n",
    "people.dropna(inplace=True)\n",
    "\n",
    "people['sex_category'] = people.sex.astype('category')\n",
    "people['race_category'] = people.race.astype('category')\n",
    "\n",
    "people.dtypes"
   ]
  },
  {
   "cell_type": "code",
   "execution_count": 64,
   "metadata": {},
   "outputs": [
    {
     "name": "stdout",
     "output_type": "stream",
     "text": [
      "0.7796387520525452\n"
     ]
    }
   ],
   "source": [
    "# fit a linear model based on noncategorical measures\n",
    "feature_cols = ['education_num', 'age']\n",
    "x = people[feature_cols]\n",
    "y = people.class_dummy\n",
    "\n",
    "model = LinearSVC()\n",
    "#model = LogisticRegression()\n",
    "model.fit(x,y)\n",
    "pred = model.predict(x)\n",
    "\n",
    "print(accuracy_score(people.class_dummy, pred.round()))"
   ]
  },
  {
   "cell_type": "code",
   "execution_count": 65,
   "metadata": {},
   "outputs": [
    {
     "name": "stdout",
     "output_type": "stream",
     "text": [
      "[[6442  500]\n",
      " [1513  680]]\n"
     ]
    }
   ],
   "source": [
    "print(confusion_matrix(people.class_dummy, pred.round()))"
   ]
  },
  {
   "cell_type": "code",
   "execution_count": 66,
   "metadata": {},
   "outputs": [
    {
     "name": "stdout",
     "output_type": "stream",
     "text": [
      "             precision    recall  f1-score   support\n",
      "\n",
      "        0.0       0.81      0.93      0.86      6942\n",
      "        1.0       0.58      0.31      0.40      2193\n",
      "\n",
      "avg / total       0.75      0.78      0.75      9135\n",
      "\n"
     ]
    }
   ],
   "source": [
    "print(classification_report(people.class_dummy, pred.round()))"
   ]
  },
  {
   "cell_type": "code",
   "execution_count": 104,
   "metadata": {},
   "outputs": [
    {
     "name": "stdout",
     "output_type": "stream",
     "text": [
      "0.7936507936507936\n"
     ]
    }
   ],
   "source": [
    "# fit a logistic model with added categorical measures\n",
    "people['sex_class'] = people['sex_category'].cat.codes\n",
    "people['race_class'] = people['race_category'].cat.codes\n",
    "\n",
    "feature_cols = ['sex_class', 'age', 'race_class', 'education_num']\n",
    "x = people[feature_cols]\n",
    "y = people.class_dummy\n",
    "\n",
    "#model = LinearSVC()\n",
    "model = LogisticRegression()\n",
    "model.fit(x,y)\n",
    "pred = model.predict(x)\n",
    "\n",
    "print(accuracy_score(people.class_dummy, pred.round()))"
   ]
  },
  {
   "cell_type": "code",
   "execution_count": 105,
   "metadata": {},
   "outputs": [
    {
     "name": "stdout",
     "output_type": "stream",
     "text": [
      "[[6528  414]\n",
      " [1471  722]]\n"
     ]
    }
   ],
   "source": [
    "print(confusion_matrix(people.class_dummy, pred.round()))"
   ]
  },
  {
   "cell_type": "code",
   "execution_count": 106,
   "metadata": {},
   "outputs": [
    {
     "name": "stdout",
     "output_type": "stream",
     "text": [
      "             precision    recall  f1-score   support\n",
      "\n",
      "        0.0       0.82      0.94      0.87      6942\n",
      "        1.0       0.64      0.33      0.43      2193\n",
      "\n",
      "avg / total       0.77      0.79      0.77      9135\n",
      "\n"
     ]
    }
   ],
   "source": [
    "print(classification_report(people.class_dummy, pred.round()))"
   ]
  },
  {
   "cell_type": "code",
   "execution_count": null,
   "metadata": {},
   "outputs": [],
   "source": []
  }
 ],
 "metadata": {
  "kernelspec": {
   "display_name": "Python 3",
   "language": "python",
   "name": "python3"
  },
  "language_info": {
   "codemirror_mode": {
    "name": "ipython",
    "version": 3
   },
   "file_extension": ".py",
   "mimetype": "text/x-python",
   "name": "python",
   "nbconvert_exporter": "python",
   "pygments_lexer": "ipython3",
   "version": "3.6.5"
  }
 },
 "nbformat": 4,
 "nbformat_minor": 2
}
