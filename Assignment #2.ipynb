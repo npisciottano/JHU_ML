{
 "cells": [
  {
   "cell_type": "code",
   "execution_count": 1,
   "metadata": {},
   "outputs": [],
   "source": [
    "import numpy as np\n",
    "import pandas as pd\n",
    "import scipy as sp"
   ]
  },
  {
   "cell_type": "code",
   "execution_count": 2,
   "metadata": {},
   "outputs": [],
   "source": [
    "%matplotlib inline\n",
    "import matplotlib.pyplot as plt\n",
    "plt.style.use('ggplot')"
   ]
  },
  {
   "cell_type": "code",
   "execution_count": 3,
   "metadata": {},
   "outputs": [
    {
     "name": "stdout",
     "output_type": "stream",
     "text": [
      "Overwriting hw_data.csv\n"
     ]
    }
   ],
   "source": [
    "%%file hw_data.csv\n",
    "id,sex,weight,height\n",
    "1,M,190,77\n",
    "2,F,120,70\n",
    "3,F,110,68\n",
    "4,M,150,72\n",
    "5,O,120,66\n",
    "6,M,120,60\n",
    "7,F,140,70"
   ]
  },
  {
   "cell_type": "markdown",
   "metadata": {},
   "source": [
    "# Python"
   ]
  },
  {
   "cell_type": "markdown",
   "metadata": {},
   "source": [
    "## 1. Finish creating the following function that takes a list and returns the average value."
   ]
  },
  {
   "cell_type": "code",
   "execution_count": 6,
   "metadata": {},
   "outputs": [
    {
     "data": {
      "text/plain": [
       "3.375"
      ]
     },
     "execution_count": 6,
     "metadata": {},
     "output_type": "execute_result"
    }
   ],
   "source": [
    "def average(my_list):\n",
    "    total = 0\n",
    "    for item in my_list:\n",
    "        #do something with item!\n",
    "        total=sum(my_list)\n",
    "        count=len(my_list)\n",
    "    \n",
    "    return total/count\n",
    "\n",
    "average([1,2,1,4,3,2,5,9])"
   ]
  },
  {
   "cell_type": "markdown",
   "metadata": {},
   "source": [
    "## 2. Using a Dictionary keep track of the count of numbers (or items) from a list"
   ]
  },
  {
   "cell_type": "code",
   "execution_count": 20,
   "metadata": {},
   "outputs": [
    {
     "data": {
      "text/plain": [
       "{1: 2, 2: 2, 4: 1, 3: 1, 5: 1, 9: 1}"
      ]
     },
     "execution_count": 20,
     "metadata": {},
     "output_type": "execute_result"
    }
   ],
   "source": [
    "def counts(my_list):\n",
    "    counts = dict()\n",
    "    for item in my_list:\n",
    "        #do something with item!\n",
    "        counts[item] = counts.get(item, 0) + 1\n",
    "        \n",
    "    return counts\n",
    "\n",
    "counts([1,2,1,4,3,2,5,9])    "
   ]
  },
  {
   "cell_type": "markdown",
   "metadata": {},
   "source": [
    "## 3.  Using the `counts()` function and the `.split()` function, return a dictionary of most occuring words from the following paragraph. Bonus, remove punctuation from words."
   ]
  },
  {
   "cell_type": "code",
   "execution_count": 53,
   "metadata": {},
   "outputs": [
    {
     "data": {
      "text/plain": [
       "{'': 24,\n",
       " 'For': 3,\n",
       " 'a': 16,\n",
       " 'minute': 1,\n",
       " 'or': 2,\n",
       " 'two': 2,\n",
       " 'she': 7,\n",
       " 'stood': 1,\n",
       " 'looking': 2,\n",
       " 'at': 6,\n",
       " 'the': 32,\n",
       " 'house': 2,\n",
       " 'and': 18,\n",
       " 'wondering': 1,\n",
       " 'what': 2,\n",
       " 'to': 15,\n",
       " 'do': 1,\n",
       " 'next': 2,\n",
       " 'when': 2,\n",
       " 'suddenly': 1,\n",
       " 'footman': 3,\n",
       " 'in': 7,\n",
       " 'livery': 3,\n",
       " 'came': 2,\n",
       " 'running': 1,\n",
       " 'out': 5,\n",
       " 'of': 9,\n",
       " 'wood': 3,\n",
       " 'considered': 1,\n",
       " 'him': 3,\n",
       " 'be': 2,\n",
       " 'because': 3,\n",
       " 'he': 5,\n",
       " 'was': 8,\n",
       " 'otherwise': 1,\n",
       " 'judging': 1,\n",
       " 'by': 3,\n",
       " 'his': 6,\n",
       " 'face': 2,\n",
       " 'only': 2,\n",
       " 'would': 1,\n",
       " 'have': 1,\n",
       " 'called': 1,\n",
       " 'fish': 1,\n",
       " 'rapped': 1,\n",
       " 'loudly': 1,\n",
       " 'door': 6,\n",
       " 'with': 2,\n",
       " 'knuckles': 1,\n",
       " 'It': 1,\n",
       " 'opened': 2,\n",
       " 'another': 1,\n",
       " 'round': 1,\n",
       " 'large': 3,\n",
       " 'eyes': 2,\n",
       " 'like': 1,\n",
       " 'frog': 1,\n",
       " 'both': 2,\n",
       " 'footmen': 1,\n",
       " 'Alice': 5,\n",
       " 'noticed': 1,\n",
       " 'had': 4,\n",
       " 'powdered': 1,\n",
       " 'hair': 1,\n",
       " 'that': 3,\n",
       " 'curled': 1,\n",
       " 'all': 3,\n",
       " 'over': 2,\n",
       " 'their': 3,\n",
       " 'heads': 1,\n",
       " 'She': 1,\n",
       " 'felt': 1,\n",
       " 'very': 2,\n",
       " 'curious': 1,\n",
       " 'know': 2,\n",
       " 'it': 3,\n",
       " 'about': 1,\n",
       " 'crept': 1,\n",
       " 'little': 2,\n",
       " 'way': 1,\n",
       " 'listen': 1,\n",
       " 'The': 2,\n",
       " 'Fish': 2,\n",
       " 'Footman': 7,\n",
       " 'began': 1,\n",
       " 'producing': 1,\n",
       " 'from': 2,\n",
       " 'under': 1,\n",
       " 'arm': 1,\n",
       " 'great': 2,\n",
       " 'letter': 1,\n",
       " 'nearly': 2,\n",
       " 'as': 4,\n",
       " 'himself': 1,\n",
       " 'this': 4,\n",
       " 'handed': 1,\n",
       " 'other': 2,\n",
       " 'saying': 1,\n",
       " 'solemn': 2,\n",
       " 'tone': 2,\n",
       " 'Duchess': 2,\n",
       " 'An': 2,\n",
       " 'invitation': 2,\n",
       " 'Queen': 2,\n",
       " 'play': 2,\n",
       " 'croquet': 2,\n",
       " 'Frog': 1,\n",
       " 'repeated': 2,\n",
       " 'same': 2,\n",
       " 'changing': 1,\n",
       " 'order': 1,\n",
       " 'words': 1,\n",
       " 'From': 1,\n",
       " 'for': 3,\n",
       " 'Then': 1,\n",
       " 'they': 2,\n",
       " 'bowed': 1,\n",
       " 'low': 1,\n",
       " 'curls': 1,\n",
       " 'got': 1,\n",
       " 'entangled': 1,\n",
       " 'together': 1,\n",
       " 'laughed': 1,\n",
       " 'so': 2,\n",
       " 'much': 1,\n",
       " 'run': 1,\n",
       " 'back': 1,\n",
       " 'into': 3,\n",
       " 'fear': 1,\n",
       " 'hearing': 1,\n",
       " 'her': 2,\n",
       " 'peeped': 1,\n",
       " 'gone': 1,\n",
       " 'sitting': 1,\n",
       " 'on': 4,\n",
       " 'ground': 1,\n",
       " 'near': 1,\n",
       " 'staring': 1,\n",
       " 'stupidly': 1,\n",
       " 'up': 3,\n",
       " 'sky': 2,\n",
       " 'went': 2,\n",
       " 'timidly': 1,\n",
       " 'knocked': 1,\n",
       " 'There': 2,\n",
       " 's': 2,\n",
       " 'no': 2,\n",
       " 'sort': 1,\n",
       " 'use': 1,\n",
       " 'knocking': 2,\n",
       " 'said': 3,\n",
       " 'reasons': 1,\n",
       " 'First': 1,\n",
       " 'I': 5,\n",
       " 'm': 1,\n",
       " 'side': 1,\n",
       " 'you': 6,\n",
       " 'are': 2,\n",
       " 'secondly': 1,\n",
       " 're': 1,\n",
       " 'making': 1,\n",
       " 'such': 1,\n",
       " 'noise': 2,\n",
       " 'inside': 2,\n",
       " 'one': 2,\n",
       " 'could': 2,\n",
       " 'possibly': 1,\n",
       " 'hear': 1,\n",
       " 'And': 1,\n",
       " 'certainly': 1,\n",
       " 'there': 1,\n",
       " 'most': 1,\n",
       " 'extraordinary': 1,\n",
       " 'going': 1,\n",
       " 'within': 1,\n",
       " 'constant': 1,\n",
       " 'howling': 1,\n",
       " 'sneezing': 1,\n",
       " 'every': 1,\n",
       " 'now': 1,\n",
       " 'then': 2,\n",
       " 'crash': 1,\n",
       " 'if': 3,\n",
       " 'dish': 1,\n",
       " 'kettle': 1,\n",
       " 'been': 1,\n",
       " 'broken': 1,\n",
       " 'pieces': 2,\n",
       " 'Please': 1,\n",
       " 'how': 1,\n",
       " 'am': 2,\n",
       " 'get': 2,\n",
       " 'in?': 2,\n",
       " 'might': 3,\n",
       " 'some': 1,\n",
       " 'sense': 1,\n",
       " 'your': 1,\n",
       " 'without': 1,\n",
       " 'attending': 1,\n",
       " 'we': 1,\n",
       " 'between': 1,\n",
       " 'us': 1,\n",
       " 'instance': 1,\n",
       " 'were': 1,\n",
       " 'knock': 1,\n",
       " 'let': 1,\n",
       " 'He': 1,\n",
       " 'time': 1,\n",
       " 'speaking': 1,\n",
       " 'thought': 1,\n",
       " 'decidedly': 1,\n",
       " 'uncivil': 1,\n",
       " 'But': 2,\n",
       " 'perhaps': 1,\n",
       " 'can': 1,\n",
       " 't': 1,\n",
       " 'help': 1,\n",
       " 'herself': 1,\n",
       " 'top': 1,\n",
       " 'head': 2,\n",
       " 'any': 1,\n",
       " 'rate': 1,\n",
       " 'answer': 1,\n",
       " 'questions': 1,\n",
       " 'How': 1,\n",
       " 'aloud': 1,\n",
       " 'shall': 1,\n",
       " 'sit': 1,\n",
       " 'here': 1,\n",
       " 'remarked': 1,\n",
       " 'till': 1,\n",
       " 'tomorrow': 1,\n",
       " 'At': 1,\n",
       " 'moment': 1,\n",
       " 'plate': 1,\n",
       " 'skimming': 1,\n",
       " 'straight': 1,\n",
       " 'just': 1,\n",
       " 'grazed': 1,\n",
       " 'nose': 1,\n",
       " 'broke': 1,\n",
       " 'against': 1,\n",
       " 'trees': 1,\n",
       " 'behind': 1}"
      ]
     },
     "execution_count": 53,
     "metadata": {},
     "output_type": "execute_result"
    }
   ],
   "source": [
    "paragraph_text = '''\n",
    "For a minute or two she stood looking at the house, and wondering what to do next, when suddenly a footman in livery came running out of the wood—(she considered him to be a footman because he was in livery: otherwise, judging by his face only, she would have called him a fish)—and rapped loudly at the door with his knuckles. It was opened by another footman in livery, with a round face, and large eyes like a frog; and both footmen, Alice noticed, had powdered hair that curled all over their heads. She felt very curious to know what it was all about, and crept a little way out of the wood to listen.\n",
    "The Fish-Footman began by producing from under his arm a great letter, nearly as large as himself, and this he handed over to the other, saying, in a solemn tone, ‘For the Duchess. An invitation from the Queen to play croquet.’ The Frog-Footman repeated, in the same solemn tone, only changing the order of the words a little, ‘From the Queen. An invitation for the Duchess to play croquet.’\n",
    "Then they both bowed low, and their curls got entangled together.\n",
    "Alice laughed so much at this, that she had to run back into the wood for fear of their hearing her; and when she next peeped out the Fish-Footman was gone, and the other was sitting on the ground near the door, staring stupidly up into the sky.\n",
    "Alice went timidly up to the door, and knocked.\n",
    "‘There’s no sort of use in knocking,’ said the Footman, ‘and that for two reasons. First, because I’m on the same side of the door as you are; secondly, because they’re making such a noise inside, no one could possibly hear you.’ And certainly there was a most extraordinary noise going on within—a constant howling and sneezing, and every now and then a great crash, as if a dish or kettle had been broken to pieces.\n",
    "‘Please, then,’ said Alice, ‘how am I to get in?’\n",
    "‘There might be some sense in your knocking,’ the Footman went on without attending to her, ‘if we had the door between us. For instance, if you were inside, you might knock, and I could let you out, you know.’ He was looking up into the sky all the time he was speaking, and this Alice thought decidedly uncivil. ‘But perhaps he can’t help it,’ she said to herself; ‘his eyes are so very nearly at the top of his head. But at any rate he might answer questions.—How am I to get in?’ she repeated, aloud.\n",
    "‘I shall sit here,’ the Footman remarked, ‘till tomorrow—’\n",
    "At this moment the door of the house opened, and a large plate came skimming out, straight at the Footman’s head: it just grazed his nose, and broke to pieces against one of the trees behind him.'''\n",
    "\n",
    "s = paragraph_text\n",
    "s2 = s.replace(\".\",\" \")\n",
    "s3 = s2.replace(\",\",\" \")\n",
    "s4 = s3.replace(\"\\n\",\" \")\n",
    "s5 = s4.replace(\"-\",\" \")\n",
    "s6 = s5.replace(\"(\",\" \")\n",
    "s7 = s6.replace(\")\",\" \")\n",
    "s8 = s7.replace(\";\",\" \")\n",
    "s9 = s8.replace(\"—\",\" \")\n",
    "s10 = s9.replace(\"'\",\" \")\n",
    "s11 = s10.replace(\"‘\",\" \")\n",
    "s12 = s11.replace(\"’\",\" \")\n",
    "s13 = s12.replace(\":\",\" \")\n",
    "s14 = s13.replace(\"  \",\" \")\n",
    "#has to be a better solution that that!\n",
    "#print(s14)\n",
    "words = s14.split(\" \")\n",
    "counts(words)"
   ]
  },
  {
   "cell_type": "markdown",
   "metadata": {},
   "source": [
    "## 4. Read in a file and write each line from the file to a new file Title-ized\n",
    "\n",
    "`This is the first line` ->  `This Is The First Line`\n",
    "\n",
    "Hint: There's a function to do this"
   ]
  },
  {
   "cell_type": "code",
   "execution_count": 87,
   "metadata": {},
   "outputs": [
    {
     "name": "stdout",
     "output_type": "stream",
     "text": [
      "These Are \n",
      "Words\n",
      "Capitalize Them\n"
     ]
    }
   ],
   "source": [
    "with open(r\"file2.txt\", 'r') as file2:\n",
    "    words = file2.read()\n",
    "    print(words.title())"
   ]
  },
  {
   "cell_type": "markdown",
   "metadata": {},
   "source": [
    "# Numpy"
   ]
  },
  {
   "cell_type": "markdown",
   "metadata": {},
   "source": [
    "## 1. Given a list, find the average using a numpy function. "
   ]
  },
  {
   "cell_type": "code",
   "execution_count": 89,
   "metadata": {},
   "outputs": [
    {
     "name": "stdout",
     "output_type": "stream",
     "text": [
      "3.375\n"
     ]
    }
   ],
   "source": [
    "simple_list = [1,2,1,4,3,2,5,9]\n",
    "\n",
    "import numpy as np\n",
    "\n",
    "s = np.array(simple_list)\n",
    "s1 = np.average(s)\n",
    "print(s1)\n"
   ]
  },
  {
   "cell_type": "markdown",
   "metadata": {},
   "source": [
    "## 2. Given two lists of Heights and Weights of individual, calculate the BMI of those individuals, without writing a `for-loop`"
   ]
  },
  {
   "cell_type": "code",
   "execution_count": 145,
   "metadata": {},
   "outputs": [
    {
     "name": "stdout",
     "output_type": "stream",
     "text": [
      "[0.50574713 0.47976879 0.53179191 0.42285714 0.4502924 ]\n"
     ]
    }
   ],
   "source": [
    "heights = [174, 173, 173, 175, 171]\n",
    "weights = [88, 83, 92, 74, 77]\n",
    "\n",
    "h = np.array(heights)\n",
    "w = np.array(weights)\n",
    "\n",
    "bmi = w/h\n",
    "print(bmi)"
   ]
  },
  {
   "cell_type": "markdown",
   "metadata": {},
   "source": [
    "## 3. Create an array of length 20 filled with random values (between 0 to 1) "
   ]
  },
  {
   "cell_type": "code",
   "execution_count": 130,
   "metadata": {},
   "outputs": [
    {
     "name": "stdout",
     "output_type": "stream",
     "text": [
      "[[0.91362153 0.53379262 0.18062275 0.98244873]\n",
      " [0.96384411 0.46046935 0.68421725 0.06891537]\n",
      " [0.30409465 0.4312043  0.28970398 0.21468991]\n",
      " [0.21131964 0.2614321  0.66545766 0.66667192]\n",
      " [0.13883358 0.0362403  0.76836649 0.22161023]]\n"
     ]
    }
   ],
   "source": [
    "numbers = np.random.rand(5,4)\n",
    "s = np.array(numbers)\n",
    "print(s)"
   ]
  },
  {
   "cell_type": "markdown",
   "metadata": {},
   "source": [
    "## Bonus. 1. Create an array with a large (>1000) length filled with random numbers from different distributions (normal, uniform, etc.). 2. Then, plot a histogram of these values. "
   ]
  },
  {
   "cell_type": "code",
   "execution_count": 133,
   "metadata": {},
   "outputs": [
    {
     "data": {
      "image/png": "[encoded data removed]",
      "text/plain": [
       "<Figure size 432x288 with 1 Axes>"
      ]
     },
     "metadata": {},
     "output_type": "display_data"
    }
   ],
   "source": [
    "import matplotlib.pyplot as plot\n",
    "\n",
    "numbers = np.random.rand(100,10)\n",
    "s = np.array(numbers)\n",
    "\n",
    "plot.hist(s, bins=\"auto\")\n",
    "plot.show()"
   ]
  },
  {
   "cell_type": "markdown",
   "metadata": {},
   "source": [
    "# Pandas"
   ]
  },
  {
   "cell_type": "markdown",
   "metadata": {},
   "source": [
    "## 1. Read in a CSV () and display all the columns and their respective data types "
   ]
  },
  {
   "cell_type": "code",
   "execution_count": 151,
   "metadata": {},
   "outputs": [
    {
     "data": {
      "text/html": [
       "<div>\n",
       "<style scoped>\n",
       "    .dataframe tbody tr th:only-of-type {\n",
       "        vertical-align: middle;\n",
       "    }\n",
       "\n",
       "    .dataframe tbody tr th {\n",
       "        vertical-align: top;\n",
       "    }\n",
       "\n",
       "    .dataframe thead th {\n",
       "        text-align: right;\n",
       "    }\n",
       "</style>\n",
       "<table border=\"1\" class=\"dataframe\">\n",
       "  <thead>\n",
       "    <tr style=\"text-align: right;\">\n",
       "      <th></th>\n",
       "      <th>sex</th>\n",
       "      <th>weight</th>\n",
       "      <th>height</th>\n",
       "    </tr>\n",
       "    <tr>\n",
       "      <th>id</th>\n",
       "      <th></th>\n",
       "      <th></th>\n",
       "      <th></th>\n",
       "    </tr>\n",
       "  </thead>\n",
       "  <tbody>\n",
       "    <tr>\n",
       "      <th>1</th>\n",
       "      <td>M</td>\n",
       "      <td>190</td>\n",
       "      <td>77</td>\n",
       "    </tr>\n",
       "    <tr>\n",
       "      <th>2</th>\n",
       "      <td>F</td>\n",
       "      <td>120</td>\n",
       "      <td>70</td>\n",
       "    </tr>\n",
       "    <tr>\n",
       "      <th>3</th>\n",
       "      <td>F</td>\n",
       "      <td>110</td>\n",
       "      <td>68</td>\n",
       "    </tr>\n",
       "    <tr>\n",
       "      <th>4</th>\n",
       "      <td>M</td>\n",
       "      <td>150</td>\n",
       "      <td>72</td>\n",
       "    </tr>\n",
       "    <tr>\n",
       "      <th>5</th>\n",
       "      <td>O</td>\n",
       "      <td>120</td>\n",
       "      <td>66</td>\n",
       "    </tr>\n",
       "    <tr>\n",
       "      <th>6</th>\n",
       "      <td>M</td>\n",
       "      <td>120</td>\n",
       "      <td>60</td>\n",
       "    </tr>\n",
       "    <tr>\n",
       "      <th>7</th>\n",
       "      <td>F</td>\n",
       "      <td>140</td>\n",
       "      <td>70</td>\n",
       "    </tr>\n",
       "  </tbody>\n",
       "</table>\n",
       "</div>"
      ],
      "text/plain": [
       "   sex  weight  height\n",
       "id                    \n",
       "1    M     190      77\n",
       "2    F     120      70\n",
       "3    F     110      68\n",
       "4    M     150      72\n",
       "5    O     120      66\n",
       "6    M     120      60\n",
       "7    F     140      70"
      ]
     },
     "execution_count": 151,
     "metadata": {},
     "output_type": "execute_result"
    }
   ],
   "source": [
    "import pandas as pd\n",
    "import numpy as np\n",
    "import matplotlib.pyplot as plot\n",
    "\n",
    "df1 = pd.read_csv('hw_data.csv', index_col='id', parse_dates=True)\n",
    "df1"
   ]
  },
  {
   "cell_type": "markdown",
   "metadata": {},
   "source": [
    "## 2. Find the average weight "
   ]
  },
  {
   "cell_type": "code",
   "execution_count": 137,
   "metadata": {},
   "outputs": [
    {
     "data": {
      "text/plain": [
       "weight    135.714286\n",
       "height     69.000000\n",
       "dtype: float64"
      ]
     },
     "execution_count": 137,
     "metadata": {},
     "output_type": "execute_result"
    }
   ],
   "source": [
    "df1.mean()"
   ]
  },
  {
   "cell_type": "markdown",
   "metadata": {},
   "source": [
    "## 3. Find the Value Counts on column `sex` "
   ]
  },
  {
   "cell_type": "code",
   "execution_count": 139,
   "metadata": {},
   "outputs": [
    {
     "data": {
      "text/html": [
       "<div>\n",
       "<style scoped>\n",
       "    .dataframe tbody tr th:only-of-type {\n",
       "        vertical-align: middle;\n",
       "    }\n",
       "\n",
       "    .dataframe tbody tr th {\n",
       "        vertical-align: top;\n",
       "    }\n",
       "\n",
       "    .dataframe thead th {\n",
       "        text-align: right;\n",
       "    }\n",
       "</style>\n",
       "<table border=\"1\" class=\"dataframe\">\n",
       "  <thead>\n",
       "    <tr style=\"text-align: right;\">\n",
       "      <th></th>\n",
       "      <th>weight</th>\n",
       "      <th>height</th>\n",
       "    </tr>\n",
       "    <tr>\n",
       "      <th>sex</th>\n",
       "      <th></th>\n",
       "      <th></th>\n",
       "    </tr>\n",
       "  </thead>\n",
       "  <tbody>\n",
       "    <tr>\n",
       "      <th>F</th>\n",
       "      <td>3</td>\n",
       "      <td>3</td>\n",
       "    </tr>\n",
       "    <tr>\n",
       "      <th>M</th>\n",
       "      <td>3</td>\n",
       "      <td>3</td>\n",
       "    </tr>\n",
       "    <tr>\n",
       "      <th>O</th>\n",
       "      <td>1</td>\n",
       "      <td>1</td>\n",
       "    </tr>\n",
       "  </tbody>\n",
       "</table>\n",
       "</div>"
      ],
      "text/plain": [
       "     weight  height\n",
       "sex                \n",
       "F         3       3\n",
       "M         3       3\n",
       "O         1       1"
      ]
     },
     "execution_count": 139,
     "metadata": {},
     "output_type": "execute_result"
    }
   ],
   "source": [
    "df1.groupby(\"sex\").count()"
   ]
  },
  {
   "cell_type": "markdown",
   "metadata": {},
   "source": [
    "## 4. Plot Height vs. Weight "
   ]
  },
  {
   "cell_type": "code",
   "execution_count": 144,
   "metadata": {},
   "outputs": [
    {
     "data": {
      "image/png": "[encoded data removed]",
      "text/plain": [
       "<Figure size 432x288 with 1 Axes>"
      ]
     },
     "metadata": {},
     "output_type": "display_data"
    }
   ],
   "source": [
    "chart = df1.plot.scatter(x = \"height\", y = \"weight\")"
   ]
  },
  {
   "cell_type": "markdown",
   "metadata": {},
   "source": [
    "## 5. Calculate BMI and save as a new column"
   ]
  },
  {
   "cell_type": "code",
   "execution_count": 153,
   "metadata": {},
   "outputs": [
    {
     "name": "stdout",
     "output_type": "stream",
     "text": [
      "   sex  weight  height       bmi\n",
      "id                              \n",
      "1    M     190      77  2.467532\n",
      "2    F     120      70  1.714286\n",
      "3    F     110      68  1.617647\n",
      "4    M     150      72  2.083333\n",
      "5    O     120      66  1.818182\n",
      "6    M     120      60  2.000000\n",
      "7    F     140      70  2.000000\n"
     ]
    }
   ],
   "source": [
    "bmi = df1.weight / df1.height\n",
    "df1[\"bmi\"] = bmi\n",
    "\n",
    "print(df1)"
   ]
  },
  {
   "cell_type": "markdown",
   "metadata": {},
   "source": [
    "## 6. Save sheet as a new CSV file `hw_dataB.csv`"
   ]
  },
  {
   "cell_type": "code",
   "execution_count": 155,
   "metadata": {},
   "outputs": [],
   "source": [
    "df1.to_csv('hw_dataB.csv')"
   ]
  },
  {
   "cell_type": "markdown",
   "metadata": {},
   "source": [
    "## Run the following"
   ]
  },
  {
   "cell_type": "code",
   "execution_count": 156,
   "metadata": {},
   "outputs": [
    {
     "name": "stdout",
     "output_type": "stream",
     "text": [
      "id,sex,weight,height,bmi\r\n",
      "1,M,190,77,2.4675324675324677\r\n",
      "2,F,120,70,1.7142857142857142\r\n",
      "3,F,110,68,1.6176470588235294\r\n",
      "4,M,150,72,2.0833333333333335\r\n",
      "5,O,120,66,1.8181818181818181\r\n",
      "6,M,120,60,2.0\r\n",
      "7,F,140,70,2.0\r\n"
     ]
    }
   ],
   "source": [
    "!cat hw_dataB.csv"
   ]
  },
  {
   "cell_type": "code",
   "execution_count": null,
   "metadata": {},
   "outputs": [],
   "source": []
  }
 ],
 "metadata": {
  "kernelspec": {
   "display_name": "Python 3",
   "language": "python",
   "name": "python3"
  },
  "language_info": {
   "codemirror_mode": {
    "name": "ipython",
    "version": 3
   },
   "file_extension": ".py",
   "mimetype": "text/x-python",
   "name": "python",
   "nbconvert_exporter": "python",
   "pygments_lexer": "ipython3",
   "version": "3.6.5"
  }
 },
 "nbformat": 4,
 "nbformat_minor": 1
}
